{
 "cells": [
  {
   "cell_type": "code",
   "execution_count": 2,
   "metadata": {},
   "outputs": [
    {
     "name": "stdout",
     "output_type": "stream",
     "text": [
      "(array([0.00377789, 1.        , 0.99815498]), 9.93193717277487)\n",
      "(array([7.47752344e-04, 1.00000000e+00, 9.99621725e-01]), 9.987172728870146)\n"
     ]
    }
   ],
   "source": [
    "# QUESTION 10\n",
    "import numpy as np\n",
    "A = np.array([[1, 2, -2], [1, 1, 9], [0, 1, 9]])\n",
    "x0 = np.array([1, 0, 0])\n",
    "\n",
    "def powermat(A, x0, nit):\n",
    "    x = x0\n",
    "    for _ in range(nit+1):\n",
    "        xnew = A.dot(x)\n",
    "        lambda_ = np.linalg.norm(xnew, np.inf)/np.linalg.norm(x, np.inf)\n",
    "        x = xnew\n",
    "\n",
    "    x = x/np.linalg.norm(x, np.inf)\n",
    "\n",
    "    return x, lambda_\n",
    "\n",
    "print(powermat(A, x0, 5))\n",
    "print(powermat(A, x0, 6))"
   ]
  },
  {
   "cell_type": "code",
   "execution_count": 3,
   "metadata": {},
   "outputs": [
    {
     "name": "stdout",
     "output_type": "stream",
     "text": [
      "(array([ 1.        , -0.46153846]), 4.333333333333333) -3.0\n",
      "(array([-1.        ,  0.50980392]), 3.923076923076923) -3.923076923076923\n",
      "(array([ 1.        , -0.49756098]), 4.019607843137255) -3.995121951219512\n",
      "(array([-1.       ,  0.5006105]), 3.995121951219512) -3.9996948428440646\n"
     ]
    }
   ],
   "source": [
    "# QUESTION 12\n",
    "A = np.array([[-3, 2], [2, 0]])\n",
    "x0 = np.array([1, 0])\n",
    "\n",
    "def rayleigh(A, x0, nit):\n",
    "    x = x0\n",
    "    for _ in range(nit):\n",
    "        xnew = A.dot(x)\n",
    "        lambda_ = xnew.dot(x)/x.dot(x)\n",
    "        x = xnew\n",
    "\n",
    "    x = x/np.linalg.norm(x, np.inf)\n",
    "\n",
    "    return x, lambda_\n",
    "\n",
    "for i in range(1, 5):\n",
    "    rq = rayleigh(A, x0, i)\n",
    "    power = powermat(A, x0, i)\n",
    "    print(power, rq[1])\n",
    "\n"
   ]
  },
  {
   "cell_type": "code",
   "execution_count": 13,
   "metadata": {},
   "outputs": [
    {
     "name": "stdout",
     "output_type": "stream",
     "text": [
      "-1.4244289008983873\n",
      "[ 1.          0.3729008  -0.78536908]\n"
     ]
    }
   ],
   "source": [
    "# QUESTION 18\n",
    "A = np.array([[8, 0, 12], [1, -2, 1], [0, 3, 0]])\n",
    "x0 = np.array([1, 0, 0])\n",
    "\n",
    "def inverse_power_method(A, alpha, x, tol=1e-8, max_iter=10):\n",
    "\n",
    "    \n",
    "    for _ in range(max_iter):\n",
    "        y = np.linalg.solve(A - alpha * np.eye(A.shape[0]), x)\n",
    "        j = np.argmax(np.abs(y))\n",
    "        v = alpha + (1.0 / y[j])\n",
    "        x = (1.0 / y[j]) * y\n",
    "    \n",
    "    return v, x\n",
    "\n",
    "res = inverse_power_method(A, -1.4, x0)\n",
    "print(res[0])\n",
    "print(res[1])"
   ]
  }
 ],
 "metadata": {
  "kernelspec": {
   "display_name": "Python 3",
   "language": "python",
   "name": "python3"
  },
  "language_info": {
   "codemirror_mode": {
    "name": "ipython",
    "version": 3
   },
   "file_extension": ".py",
   "mimetype": "text/x-python",
   "name": "python",
   "nbconvert_exporter": "python",
   "pygments_lexer": "ipython3",
   "version": "3.10.2"
  },
  "orig_nbformat": 4
 },
 "nbformat": 4,
 "nbformat_minor": 2
}
